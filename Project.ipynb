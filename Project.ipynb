{
 "cells": [
  {
   "cell_type": "markdown",
   "metadata": {},
   "source": [
    "# Integrated Predictive Analytics and Machine Learning for Enhanced Wildfire Risk Assessment in Alberta\n"
   ]
  },
  {
   "cell_type": "markdown",
   "metadata": {},
   "source": [
    "## Data Loading\n",
    "\n",
    "First, let's grab the information from the file named `wildfire_data.csv` and put it into a variable called `'data'` using `pandas`.\n"
   ]
  },
  {
   "cell_type": "code",
   "execution_count": 1,
   "metadata": {},
   "outputs": [
    {
     "data": {
      "text/html": [
       "<div>\n",
       "<style scoped>\n",
       "    .dataframe tbody tr th:only-of-type {\n",
       "        vertical-align: middle;\n",
       "    }\n",
       "\n",
       "    .dataframe tbody tr th {\n",
       "        vertical-align: top;\n",
       "    }\n",
       "\n",
       "    .dataframe thead th {\n",
       "        text-align: right;\n",
       "    }\n",
       "</style>\n",
       "<table border=\"1\" class=\"dataframe\">\n",
       "  <thead>\n",
       "    <tr style=\"text-align: right;\">\n",
       "      <th></th>\n",
       "      <th>fire_year</th>\n",
       "      <th>fire_number</th>\n",
       "      <th>fire_name</th>\n",
       "      <th>current_size</th>\n",
       "      <th>size_class</th>\n",
       "      <th>fire_location_latitude</th>\n",
       "      <th>fire_location_longitude</th>\n",
       "      <th>fire_origin</th>\n",
       "      <th>general_cause_desc</th>\n",
       "      <th>industry_identifier_desc</th>\n",
       "      <th>...</th>\n",
       "      <th>distance_from_water_source</th>\n",
       "      <th>first_bucket_drop_date</th>\n",
       "      <th>bh_fs_date</th>\n",
       "      <th>bh_hectares</th>\n",
       "      <th>uc_fs_date</th>\n",
       "      <th>uc_hectares</th>\n",
       "      <th>to_fs_date</th>\n",
       "      <th>to_hectares</th>\n",
       "      <th>ex_fs_date</th>\n",
       "      <th>ex_hectares</th>\n",
       "    </tr>\n",
       "  </thead>\n",
       "  <tbody>\n",
       "    <tr>\n",
       "      <th>0</th>\n",
       "      <td>2021</td>\n",
       "      <td>CWF001</td>\n",
       "      <td>NaN</td>\n",
       "      <td>0.01</td>\n",
       "      <td>A</td>\n",
       "      <td>49.410191</td>\n",
       "      <td>-114.318843</td>\n",
       "      <td>Provincial Park</td>\n",
       "      <td>Power Line Industry</td>\n",
       "      <td>NaN</td>\n",
       "      <td>...</td>\n",
       "      <td>NaN</td>\n",
       "      <td>NaN</td>\n",
       "      <td>1/13/2021 13:25</td>\n",
       "      <td>0.01</td>\n",
       "      <td>1/13/2021 13:25</td>\n",
       "      <td>0.01</td>\n",
       "      <td>NaN</td>\n",
       "      <td>NaN</td>\n",
       "      <td>1/13/2021 13:35</td>\n",
       "      <td>0.01</td>\n",
       "    </tr>\n",
       "    <tr>\n",
       "      <th>1</th>\n",
       "      <td>2021</td>\n",
       "      <td>CWF002</td>\n",
       "      <td>NaN</td>\n",
       "      <td>0.01</td>\n",
       "      <td>A</td>\n",
       "      <td>49.587753</td>\n",
       "      <td>-114.378655</td>\n",
       "      <td>Provincial Land</td>\n",
       "      <td>Recreation</td>\n",
       "      <td>NaN</td>\n",
       "      <td>...</td>\n",
       "      <td>NaN</td>\n",
       "      <td>NaN</td>\n",
       "      <td>1/29/2021 10:45</td>\n",
       "      <td>0.01</td>\n",
       "      <td>1/29/2021 10:45</td>\n",
       "      <td>0.01</td>\n",
       "      <td>NaN</td>\n",
       "      <td>NaN</td>\n",
       "      <td>1/29/2021 13:15</td>\n",
       "      <td>0.01</td>\n",
       "    </tr>\n",
       "    <tr>\n",
       "      <th>2</th>\n",
       "      <td>2021</td>\n",
       "      <td>CWF003</td>\n",
       "      <td>NaN</td>\n",
       "      <td>0.05</td>\n",
       "      <td>A</td>\n",
       "      <td>51.119500</td>\n",
       "      <td>-114.778950</td>\n",
       "      <td>Provincial Land</td>\n",
       "      <td>Resident</td>\n",
       "      <td>NaN</td>\n",
       "      <td>...</td>\n",
       "      <td>NaN</td>\n",
       "      <td>NaN</td>\n",
       "      <td>2/23/2021 10:42</td>\n",
       "      <td>0.05</td>\n",
       "      <td>2/23/2021 10:42</td>\n",
       "      <td>0.05</td>\n",
       "      <td>NaN</td>\n",
       "      <td>NaN</td>\n",
       "      <td>2/23/2021 10:52</td>\n",
       "      <td>0.05</td>\n",
       "    </tr>\n",
       "  </tbody>\n",
       "</table>\n",
       "<p>3 rows × 50 columns</p>\n",
       "</div>"
      ],
      "text/plain": [
       "   fire_year fire_number fire_name  current_size size_class  \\\n",
       "0       2021      CWF001       NaN          0.01          A   \n",
       "1       2021      CWF002       NaN          0.01          A   \n",
       "2       2021      CWF003       NaN          0.05          A   \n",
       "\n",
       "   fire_location_latitude  fire_location_longitude      fire_origin  \\\n",
       "0               49.410191              -114.318843  Provincial Park   \n",
       "1               49.587753              -114.378655  Provincial Land   \n",
       "2               51.119500              -114.778950  Provincial Land   \n",
       "\n",
       "    general_cause_desc industry_identifier_desc  ...  \\\n",
       "0  Power Line Industry                      NaN  ...   \n",
       "1           Recreation                      NaN  ...   \n",
       "2             Resident                      NaN  ...   \n",
       "\n",
       "  distance_from_water_source first_bucket_drop_date       bh_fs_date  \\\n",
       "0                        NaN                    NaN  1/13/2021 13:25   \n",
       "1                        NaN                    NaN  1/29/2021 10:45   \n",
       "2                        NaN                    NaN  2/23/2021 10:42   \n",
       "\n",
       "  bh_hectares       uc_fs_date uc_hectares to_fs_date  to_hectares  \\\n",
       "0        0.01  1/13/2021 13:25        0.01        NaN          NaN   \n",
       "1        0.01  1/29/2021 10:45        0.01        NaN          NaN   \n",
       "2        0.05  2/23/2021 10:42        0.05        NaN          NaN   \n",
       "\n",
       "        ex_fs_date ex_hectares  \n",
       "0  1/13/2021 13:35        0.01  \n",
       "1  1/29/2021 13:15        0.01  \n",
       "2  2/23/2021 10:52        0.05  \n",
       "\n",
       "[3 rows x 50 columns]"
      ]
     },
     "execution_count": 1,
     "metadata": {},
     "output_type": "execute_result"
    }
   ],
   "source": [
    "# import the necessary packages\n",
    "import pandas as pd\n",
    "\n",
    "# load the data\n",
    "data = None\n",
    "\n",
    "# Read CSV file using pandas\n",
    "#data = pd.read_csv('Data/wildfire_data.csv') # for windows\n",
    "data = pd.read_csv('C:/Users/MIAN/ENGO645-Final-Project/Data/wildfire_data.csv') # if MAC follow this\n",
    "\n",
    "data.head(3)"
   ]
  },
  {
   "cell_type": "markdown",
   "metadata": {},
   "source": [
    "# # Data Cleaning"
   ]
  },
  {
   "cell_type": "code",
   "execution_count": 2,
   "metadata": {
    "tags": []
   },
   "outputs": [
    {
     "name": "stdout",
     "output_type": "stream",
     "text": [
      "HEllo\n"
     ]
    }
   ],
   "source": [
    "# List of columns to be removed\n",
    "columns_to_remove = ['fire_number', 'fire_name', 'size_class', 'industry_identifier_desc', 'responsible_group_desc', 'det_agent', 'det_agent_type', 'discovered_size', 'dispatched_resource', 'dispatch_date', 'assessment_resource', 'assessment_datetime', 'ia_access', 'bucketing_on_fire', 'first_bucket_drop_date', 'distance_from_water_source', 'bh_fs_date', 'bh_hectares', 'uc_fs_date', 'uc_hectares', 'to_fs_date', 'to_hectares', 'ex_fs_date', 'ex_hectares']\n",
    "\n",
    "# Removing the specified columns\n",
    "data_cleaned = data.drop(columns=columns_to_remove)\n",
    "\n",
    "# Dropping rows with missing values in the remaining columns of the dataset\n",
    "data_cleaned = data_cleaned.dropna()\n",
    "\n",
    "\n",
    "data_cleaned.drop_duplicates(inplace=True)\n",
    "data_cleaned.reset_index(drop=True, inplace=True)\n",
    "\n",
    "data_cleaned.head()\n",
    "print(\"HEllo\")"
   ]
  },
  {
   "cell_type": "code",
   "execution_count": null,
   "metadata": {},
   "outputs": [],
   "source": []
  }
 ],
 "metadata": {
  "kernelspec": {
   "display_name": "Python 3 (ipykernel)",
   "language": "python",
   "name": "python3"
  },
  "language_info": {
   "codemirror_mode": {
    "name": "ipython",
    "version": 3
   },
   "file_extension": ".py",
   "mimetype": "text/x-python",
   "name": "python",
   "nbconvert_exporter": "python",
   "pygments_lexer": "ipython3",
   "version": "3.11.5"
  }
 },
 "nbformat": 4,
 "nbformat_minor": 4
}
